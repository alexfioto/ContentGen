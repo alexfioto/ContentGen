{
  "nbformat": 4,
  "nbformat_minor": 0,
  "metadata": {
    "colab": {
      "name": "vid2vid-colab.ipynb",
      "provenance": [],
      "toc_visible": true,
      "machine_shape": "hm",
      "authorship_tag": "ABX9TyNmEiZAkmbh8WyIr6zcqHHb",
      "include_colab_link": true
    },
    "kernelspec": {
      "name": "python3",
      "display_name": "Python 3"
    }
  },
  "cells": [
    {
      "cell_type": "markdown",
      "metadata": {
        "id": "view-in-github",
        "colab_type": "text"
      },
      "source": [
        "<a href=\"https://colab.research.google.com/github/amcurley/MeetAbby/blob/master/vid2vid_colab.ipynb\" target=\"_parent\"><img src=\"https://colab.research.google.com/assets/colab-badge.svg\" alt=\"Open In Colab\"/></a>"
      ]
    },
    {
      "cell_type": "code",
      "metadata": {
        "id": "ZcM_8MaU5klN",
        "colab_type": "code",
        "colab": {
          "base_uri": "https://localhost:8080/",
          "height": 190
        },
        "outputId": "bfcd102a-34da-40e1-8081-33e020876204"
      },
      "source": [
        "pip install dominate requests"
      ],
      "execution_count": null,
      "outputs": [
        {
          "output_type": "stream",
          "text": [
            "Collecting dominate\n",
            "  Downloading https://files.pythonhosted.org/packages/c0/03/1ba70425be63f2aab42fbc98894fe5d90cdadd41f79bdc778b3e404cfd8f/dominate-2.5.2-py2.py3-none-any.whl\n",
            "Requirement already satisfied: requests in /usr/local/lib/python3.6/dist-packages (2.23.0)\n",
            "Requirement already satisfied: certifi>=2017.4.17 in /usr/local/lib/python3.6/dist-packages (from requests) (2020.6.20)\n",
            "Requirement already satisfied: chardet<4,>=3.0.2 in /usr/local/lib/python3.6/dist-packages (from requests) (3.0.4)\n",
            "Requirement already satisfied: idna<3,>=2.5 in /usr/local/lib/python3.6/dist-packages (from requests) (2.10)\n",
            "Requirement already satisfied: urllib3!=1.25.0,!=1.25.1,<1.26,>=1.21.1 in /usr/local/lib/python3.6/dist-packages (from requests) (1.24.3)\n",
            "Installing collected packages: dominate\n",
            "Successfully installed dominate-2.5.2\n"
          ],
          "name": "stdout"
        }
      ]
    },
    {
      "cell_type": "markdown",
      "metadata": {
        "id": "KwsJZU9A-IMm",
        "colab_type": "text"
      },
      "source": [
        "### Mount Google Drive"
      ]
    },
    {
      "cell_type": "code",
      "metadata": {
        "id": "exw1WtNO991R",
        "colab_type": "code",
        "colab": {
          "base_uri": "https://localhost:8080/",
          "height": 54
        },
        "outputId": "7217f1c9-f999-4fbe-a38c-ce9cd4ca9967"
      },
      "source": [
        "from google.colab import drive\n",
        "drive.mount('/content/drive')"
      ],
      "execution_count": null,
      "outputs": [
        {
          "output_type": "stream",
          "text": [
            "Drive already mounted at /content/drive; to attempt to forcibly remount, call drive.mount(\"/content/drive\", force_remount=True).\n"
          ],
          "name": "stdout"
        }
      ]
    },
    {
      "cell_type": "markdown",
      "metadata": {
        "id": "lnmY1ksD-v3T",
        "colab_type": "text"
      },
      "source": [
        "### Install Repo"
      ]
    },
    {
      "cell_type": "code",
      "metadata": {
        "id": "yBCcTcbQ-u_B",
        "colab_type": "code",
        "colab": {
          "base_uri": "https://localhost:8080/",
          "height": 170
        },
        "outputId": "23103c33-4b1b-4d3d-9ad3-2375ee6fc0ce"
      },
      "source": [
        "%cd /content/drive/My\\ Drive/\n",
        "!mkdir vid2vid-colab\n",
        "%cd vid2vid-colab/\n",
        "!git clone https://github.com/NVIDIA/vid2vid\n",
        "%cd vid2vid"
      ],
      "execution_count": null,
      "outputs": [
        {
          "output_type": "stream",
          "text": [
            "/content/drive/My Drive\n",
            "/content/drive/My Drive/vid2vid-colab\n",
            "Cloning into 'vid2vid'...\n",
            "remote: Enumerating objects: 1030, done.\u001b[K\n",
            "remote: Total 1030 (delta 0), reused 0 (delta 0), pack-reused 1030\u001b[K\n",
            "Receiving objects: 100% (1030/1030), 168.36 MiB | 13.18 MiB/s, done.\n",
            "Resolving deltas: 100% (279/279), done.\n",
            "Checking out files: 100% (123/123), done.\n",
            "/content/drive/My Drive/vid2vid-colab/vid2vid\n"
          ],
          "name": "stdout"
        }
      ]
    },
    {
      "cell_type": "code",
      "metadata": {
        "id": "JjZZeKfwucS8",
        "colab_type": "code",
        "colab": {
          "base_uri": "https://localhost:8080/",
          "height": 34
        },
        "outputId": "6e248eaf-b630-43e7-bd36-dff3cfd74570"
      },
      "source": [
        "%cd /content/drive/My\\ Drive/vid2vid-colab/vid2vid/scripts/face"
      ],
      "execution_count": null,
      "outputs": [
        {
          "output_type": "stream",
          "text": [
            "/content/drive/My Drive/vid2vid-colab/vid2vid/scripts/face\n"
          ],
          "name": "stdout"
        }
      ]
    },
    {
      "cell_type": "code",
      "metadata": {
        "id": "2n6otkENvaJl",
        "colab_type": "code",
        "colab": {
          "base_uri": "https://localhost:8080/",
          "height": 68
        },
        "outputId": "bbe9e389-2a32-47be-815f-673e901b13f5"
      },
      "source": [
        "ls"
      ],
      "execution_count": null,
      "outputs": [
        {
          "output_type": "stream",
          "text": [
            "\u001b[0m\u001b[01;34mcheckpoints\u001b[0m/        \u001b[01;34m__pycache__\u001b[0m/    test_g1_512.sh    train_g1_256.sh\n",
            "download_gdrive.py  test_512.sh     train_512_bs7.sh  train_g1_512.sh\n",
            "download_models.py  test_g1_256.sh  train_512.sh\n"
          ],
          "name": "stdout"
        }
      ]
    },
    {
      "cell_type": "code",
      "metadata": {
        "id": "EhEKY-Pg8rv9",
        "colab_type": "code",
        "colab": {}
      },
      "source": [
        "!python download_models.py"
      ],
      "execution_count": null,
      "outputs": []
    },
    {
      "cell_type": "code",
      "metadata": {
        "id": "izq8RaOdxK-S",
        "colab_type": "code",
        "colab": {
          "base_uri": "https://localhost:8080/",
          "height": 51
        },
        "outputId": "de9e6e3e-ba3c-42ec-ea5d-da51275b21b1"
      },
      "source": [
        "ls"
      ],
      "execution_count": null,
      "outputs": [
        {
          "output_type": "stream",
          "text": [
            "\u001b[0m\u001b[01;34mdata\u001b[0m/    \u001b[01;34mimgs\u001b[0m/        \u001b[01;34mmodels\u001b[0m/   README.md  test.py   \u001b[01;34mutil\u001b[0m/\n",
            "\u001b[01;34mdocker\u001b[0m/  LICENSE.txt  \u001b[01;34moptions\u001b[0m/  \u001b[01;34mscripts\u001b[0m/   train.py\n"
          ],
          "name": "stdout"
        }
      ]
    },
    {
      "cell_type": "code",
      "metadata": {
        "id": "4aWw2jHaxtoJ",
        "colab_type": "code",
        "colab": {
          "base_uri": "https://localhost:8080/",
          "height": 190
        },
        "outputId": "a60f5770-bae3-43b5-8305-ae675782cc51"
      },
      "source": [
        "pip install dominate requests"
      ],
      "execution_count": null,
      "outputs": [
        {
          "output_type": "stream",
          "text": [
            "Collecting dominate\n",
            "  Downloading https://files.pythonhosted.org/packages/c0/03/1ba70425be63f2aab42fbc98894fe5d90cdadd41f79bdc778b3e404cfd8f/dominate-2.5.2-py2.py3-none-any.whl\n",
            "Requirement already satisfied: requests in /usr/local/lib/python3.6/dist-packages (2.23.0)\n",
            "Requirement already satisfied: chardet<4,>=3.0.2 in /usr/local/lib/python3.6/dist-packages (from requests) (3.0.4)\n",
            "Requirement already satisfied: idna<3,>=2.5 in /usr/local/lib/python3.6/dist-packages (from requests) (2.10)\n",
            "Requirement already satisfied: certifi>=2017.4.17 in /usr/local/lib/python3.6/dist-packages (from requests) (2020.6.20)\n",
            "Requirement already satisfied: urllib3!=1.25.0,!=1.25.1,<1.26,>=1.21.1 in /usr/local/lib/python3.6/dist-packages (from requests) (1.24.3)\n",
            "Installing collected packages: dominate\n",
            "Successfully installed dominate-2.5.2\n"
          ],
          "name": "stdout"
        }
      ]
    },
    {
      "cell_type": "code",
      "metadata": {
        "id": "Z_OAPOqyxvyB",
        "colab_type": "code",
        "colab": {
          "base_uri": "https://localhost:8080/",
          "height": 34
        },
        "outputId": "b49aca70-e51a-4009-869d-8025ca3bb465"
      },
      "source": [
        "pip install dlib"
      ],
      "execution_count": null,
      "outputs": [
        {
          "output_type": "stream",
          "text": [
            "Requirement already satisfied: dlib in /usr/local/lib/python3.6/dist-packages (19.18.0)\n"
          ],
          "name": "stdout"
        }
      ]
    },
    {
      "cell_type": "code",
      "metadata": {
        "id": "xuHpW4Xt9Z6T",
        "colab_type": "code",
        "colab": {
          "base_uri": "https://localhost:8080/",
          "height": 1000
        },
        "outputId": "7ac15780-3381-4cda-bbd0-de11a9a5e8f6"
      },
      "source": [
        "%cd /content/drive/My\\ Drive/vid2vid-colab/vid2vid\n",
        "\n",
        "\n",
        "!python test.py --name edge2face_512 --dataroot datasets/face/ --dataset_mode face --input_nc 15 --loadSize 512 --use_single_G"
      ],
      "execution_count": null,
      "outputs": [
        {
          "output_type": "stream",
          "text": [
            "/content/drive/My Drive/vid2vid-colab/vid2vid\n",
            "------------ Options -------------\n",
            "add_face_disc: False\n",
            "aspect_ratio: 1.0\n",
            "basic_point_only: False\n",
            "batchSize: 1\n",
            "checkpoints_dir: ./checkpoints\n",
            "dataroot: datasets/face/\n",
            "dataset_mode: face\n",
            "debug: False\n",
            "densepose_only: False\n",
            "display_id: 0\n",
            "display_winsize: 512\n",
            "feat_num: 3\n",
            "fg: False\n",
            "fg_labels: [26]\n",
            "fineSize: 512\n",
            "fp16: False\n",
            "gpu_ids: [0]\n",
            "how_many: 300\n",
            "input_nc: 15\n",
            "isTrain: False\n",
            "label_feat: False\n",
            "label_nc: 0\n",
            "loadSize: 512\n",
            "load_features: False\n",
            "load_pretrain: \n",
            "local_rank: 0\n",
            "max_dataset_size: inf\n",
            "model: vid2vid\n",
            "nThreads: 2\n",
            "n_blocks: 9\n",
            "n_blocks_local: 3\n",
            "n_downsample_E: 3\n",
            "n_downsample_G: 3\n",
            "n_frames_G: 3\n",
            "n_gpus_gen: 1\n",
            "n_local_enhancers: 1\n",
            "n_scales_spatial: 1\n",
            "name: edge2face_512\n",
            "ndf: 64\n",
            "nef: 32\n",
            "netE: simple\n",
            "netG: composite\n",
            "ngf: 128\n",
            "no_canny_edge: False\n",
            "no_dist_map: False\n",
            "no_first_img: False\n",
            "no_flip: False\n",
            "no_flow: False\n",
            "norm: batch\n",
            "ntest: inf\n",
            "openpose_only: False\n",
            "output_nc: 3\n",
            "phase: test\n",
            "random_drop_prob: 0.05\n",
            "random_scale_points: False\n",
            "remove_face_labels: False\n",
            "resize_or_crop: scaleWidth\n",
            "results_dir: ./results/\n",
            "serial_batches: False\n",
            "start_frame: 0\n",
            "tf_log: False\n",
            "use_instance: False\n",
            "use_real_img: False\n",
            "use_single_G: True\n",
            "which_epoch: latest\n",
            "-------------- End ----------------\n",
            "CustomDatasetDataLoader\n",
            "dataset [FaceDataset] was created\n",
            "Traceback (most recent call last):\n",
            "  File \"test.py\", line 23, in <module>\n",
            "    data_loader = CreateDataLoader(opt)\n",
            "  File \"/content/drive/My Drive/vid2vid-colab/vid2vid/data/data_loader.py\", line 6, in CreateDataLoader\n",
            "    data_loader.initialize(opt)\n",
            "  File \"/content/drive/My Drive/vid2vid-colab/vid2vid/data/custom_dataset_data_loader.py\", line 33, in initialize\n",
            "    self.dataset = CreateDataset(opt)\n",
            "  File \"/content/drive/My Drive/vid2vid-colab/vid2vid/data/custom_dataset_data_loader.py\", line 23, in CreateDataset\n",
            "    dataset.initialize(opt)\n",
            "  File \"/content/drive/My Drive/vid2vid-colab/vid2vid/data/face_dataset.py\", line 20, in initialize\n",
            "    self.A_paths = sorted(make_grouped_dataset(self.dir_A))\n",
            "  File \"/content/drive/My Drive/vid2vid-colab/vid2vid/data/image_folder.py\", line 38, in make_grouped_dataset\n",
            "    assert os.path.isdir(dir), '%s is not a valid directory' % dir\n",
            "AssertionError: datasets/face/test_keypoints is not a valid directory\n"
          ],
          "name": "stdout"
        }
      ]
    },
    {
      "cell_type": "code",
      "metadata": {
        "id": "ZA4-9D6HvNw4",
        "colab_type": "code",
        "colab": {}
      },
      "source": [
        ""
      ],
      "execution_count": null,
      "outputs": []
    }
  ]
}