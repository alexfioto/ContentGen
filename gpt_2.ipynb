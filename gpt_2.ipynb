{
  "nbformat": 4,
  "nbformat_minor": 0,
  "metadata": {
    "colab": {
      "name": "gpt-2.ipynb",
      "provenance": [],
      "toc_visible": true,
      "authorship_tag": "ABX9TyNZeLRuJCLf9tkapW8UJQf5",
      "include_colab_link": true
    },
    "kernelspec": {
      "name": "python3",
      "display_name": "Python 3"
    },
    "accelerator": "GPU"
  },
  "cells": [
    {
      "cell_type": "markdown",
      "metadata": {
        "id": "view-in-github",
        "colab_type": "text"
      },
      "source": [
        "<a href=\"https://colab.research.google.com/github/amcurley/MeetAbby/blob/master/gpt_2.ipynb\" target=\"_parent\"><img src=\"https://colab.research.google.com/assets/colab-badge.svg\" alt=\"Open In Colab\"/></a>"
      ]
    },
    {
      "cell_type": "markdown",
      "metadata": {
        "id": "Bf4ETsCYGAVi",
        "colab_type": "text"
      },
      "source": [
        "## Mount Drive"
      ]
    },
    {
      "cell_type": "code",
      "metadata": {
        "id": "B0jzA5ccF5tC",
        "colab_type": "code",
        "colab": {
          "base_uri": "https://localhost:8080/",
          "height": 34
        },
        "outputId": "94a37ef7-ed54-4052-bbaf-d30c630be083"
      },
      "source": [
        "from google.colab import drive\n",
        "drive.mount('/content/drive')"
      ],
      "execution_count": 1,
      "outputs": [
        {
          "output_type": "stream",
          "text": [
            "Mounted at /content/drive\n"
          ],
          "name": "stdout"
        }
      ]
    },
    {
      "cell_type": "code",
      "metadata": {
        "id": "DbmfFQLnGESb",
        "colab_type": "code",
        "colab": {
          "base_uri": "https://localhost:8080/",
          "height": 170
        },
        "outputId": "94949aa4-0df4-4955-c80b-d1f5ac868bbf"
      },
      "source": [
        "# ONLY RUN ONCE\n",
        "# Create gpt-2 folder \n",
        "%cd /content/drive/My\\ Drive/\n",
        "!mkdir gpt-2\n",
        "%cd gpt-2/\n",
        "!git clone https://github.com/openai/gpt-2.git\n",
        "%cd cd gpt-2"
      ],
      "execution_count": 2,
      "outputs": [
        {
          "output_type": "stream",
          "text": [
            "/content/drive/My Drive\n",
            "/content/drive/My Drive/gpt-2\n",
            "Cloning into 'gpt-2'...\n",
            "remote: Enumerating objects: 230, done.\u001b[K\n",
            "remote: Total 230 (delta 0), reused 0 (delta 0), pack-reused 230\u001b[K\n",
            "Receiving objects: 100% (230/230), 4.38 MiB | 3.33 MiB/s, done.\n",
            "Resolving deltas: 100% (118/118), done.\n",
            "[Errno 2] No such file or directory: 'cd gpt-2'\n",
            "/content/drive/My Drive/gpt-2\n"
          ],
          "name": "stdout"
        }
      ]
    },
    {
      "cell_type": "code",
      "metadata": {
        "id": "EvbghngXHaZV",
        "colab_type": "code",
        "colab": {
          "base_uri": "https://localhost:8080/",
          "height": 34
        },
        "outputId": "9876f6b8-c344-470b-8c34-03c2977f9f04"
      },
      "source": [
        "%cd /content/drive/My\\ Drive/gpt-2/gpt-2"
      ],
      "execution_count": 2,
      "outputs": [
        {
          "output_type": "stream",
          "text": [
            "/content/drive/My Drive/gpt-2/gpt-2\n"
          ],
          "name": "stdout"
        }
      ]
    },
    {
      "cell_type": "code",
      "metadata": {
        "id": "HniGguitGweL",
        "colab_type": "code",
        "colab": {
          "base_uri": "https://localhost:8080/",
          "height": 34
        },
        "outputId": "13145608-8bab-483d-8605-2eac47719791"
      },
      "source": [
        "# Change tensorflow version\n",
        "%tensorflow_version 1.x"
      ],
      "execution_count": 3,
      "outputs": [
        {
          "output_type": "stream",
          "text": [
            "TensorFlow 1.x selected.\n"
          ],
          "name": "stdout"
        }
      ]
    },
    {
      "cell_type": "code",
      "metadata": {
        "id": "9-evMyA-G5-H",
        "colab_type": "code",
        "colab": {
          "base_uri": "https://localhost:8080/",
          "height": 905
        },
        "outputId": "38b965de-b08e-49f4-e045-2bc439be14a8"
      },
      "source": [
        "# Install requirement.txt\n",
        "!pip3 install -r requirements.txt"
      ],
      "execution_count": 4,
      "outputs": [
        {
          "output_type": "stream",
          "text": [
            "Collecting fire>=0.1.3\n",
            "\u001b[?25l  Downloading https://files.pythonhosted.org/packages/34/a7/0e22e70778aca01a52b9c899d9c145c6396d7b613719cd63db97ffa13f2f/fire-0.3.1.tar.gz (81kB)\n",
            "\u001b[K     |████████████████████████████████| 81kB 3.9MB/s \n",
            "\u001b[?25hCollecting regex==2017.4.5\n",
            "\u001b[?25l  Downloading https://files.pythonhosted.org/packages/36/62/c0c0d762ffd4ffaf39f372eb8561b8d491a11ace5a7884610424a8b40f95/regex-2017.04.05.tar.gz (601kB)\n",
            "\u001b[K     |████████████████████████████████| 604kB 18.6MB/s \n",
            "\u001b[?25hCollecting requests==2.21.0\n",
            "\u001b[?25l  Downloading https://files.pythonhosted.org/packages/7d/e3/20f3d364d6c8e5d2353c72a67778eb189176f08e873c9900e10c0287b84b/requests-2.21.0-py2.py3-none-any.whl (57kB)\n",
            "\u001b[K     |████████████████████████████████| 61kB 6.3MB/s \n",
            "\u001b[?25hCollecting tqdm==4.31.1\n",
            "\u001b[?25l  Downloading https://files.pythonhosted.org/packages/6c/4b/c38b5144cf167c4f52288517436ccafefe9dc01b8d1c190e18a6b154cd4a/tqdm-4.31.1-py2.py3-none-any.whl (48kB)\n",
            "\u001b[K     |████████████████████████████████| 51kB 5.3MB/s \n",
            "\u001b[?25hRequirement already satisfied: six in /usr/local/lib/python3.6/dist-packages (from fire>=0.1.3->-r requirements.txt (line 1)) (1.15.0)\n",
            "Requirement already satisfied: termcolor in /usr/local/lib/python3.6/dist-packages (from fire>=0.1.3->-r requirements.txt (line 1)) (1.1.0)\n",
            "Requirement already satisfied: chardet<3.1.0,>=3.0.2 in /usr/local/lib/python3.6/dist-packages (from requests==2.21.0->-r requirements.txt (line 3)) (3.0.4)\n",
            "Requirement already satisfied: urllib3<1.25,>=1.21.1 in /usr/local/lib/python3.6/dist-packages (from requests==2.21.0->-r requirements.txt (line 3)) (1.24.3)\n",
            "Collecting idna<2.9,>=2.5\n",
            "\u001b[?25l  Downloading https://files.pythonhosted.org/packages/14/2c/cd551d81dbe15200be1cf41cd03869a46fe7226e7450af7a6545bfc474c9/idna-2.8-py2.py3-none-any.whl (58kB)\n",
            "\u001b[K     |████████████████████████████████| 61kB 7.1MB/s \n",
            "\u001b[?25hRequirement already satisfied: certifi>=2017.4.17 in /usr/local/lib/python3.6/dist-packages (from requests==2.21.0->-r requirements.txt (line 3)) (2020.6.20)\n",
            "Building wheels for collected packages: fire, regex\n",
            "  Building wheel for fire (setup.py) ... \u001b[?25l\u001b[?25hdone\n",
            "  Created wheel for fire: filename=fire-0.3.1-py2.py3-none-any.whl size=111005 sha256=5d6e027ec2f7d30b589bb9fc94afe608dd175e7d08eb2351fdb672093215aa87\n",
            "  Stored in directory: /root/.cache/pip/wheels/c1/61/df/768b03527bf006b546dce284eb4249b185669e65afc5fbb2ac\n",
            "  Building wheel for regex (setup.py) ... \u001b[?25l\u001b[?25hdone\n",
            "  Created wheel for regex: filename=regex-2017.4.5-cp36-cp36m-linux_x86_64.whl size=533199 sha256=97b6a5b5be32c7d102aae1d889c2714b6f190858bcedd03838636a4014c72058\n",
            "  Stored in directory: /root/.cache/pip/wheels/75/07/38/3c16b529d50cb4e0cd3dbc7b75cece8a09c132692c74450b01\n",
            "Successfully built fire regex\n",
            "\u001b[31mERROR: spacy 2.2.4 has requirement tqdm<5.0.0,>=4.38.0, but you'll have tqdm 4.31.1 which is incompatible.\u001b[0m\n",
            "\u001b[31mERROR: google-colab 1.0.0 has requirement requests~=2.23.0, but you'll have requests 2.21.0 which is incompatible.\u001b[0m\n",
            "\u001b[31mERROR: fbprophet 0.7.1 has requirement tqdm>=4.36.1, but you'll have tqdm 4.31.1 which is incompatible.\u001b[0m\n",
            "\u001b[31mERROR: datascience 0.10.6 has requirement folium==0.2.1, but you'll have folium 0.8.3 which is incompatible.\u001b[0m\n",
            "Installing collected packages: fire, regex, idna, requests, tqdm\n",
            "  Found existing installation: regex 2019.12.20\n",
            "    Uninstalling regex-2019.12.20:\n",
            "      Successfully uninstalled regex-2019.12.20\n",
            "  Found existing installation: idna 2.10\n",
            "    Uninstalling idna-2.10:\n",
            "      Successfully uninstalled idna-2.10\n",
            "  Found existing installation: requests 2.23.0\n",
            "    Uninstalling requests-2.23.0:\n",
            "      Successfully uninstalled requests-2.23.0\n",
            "  Found existing installation: tqdm 4.41.1\n",
            "    Uninstalling tqdm-4.41.1:\n",
            "      Successfully uninstalled tqdm-4.41.1\n",
            "Successfully installed fire-0.3.1 idna-2.8 regex-2017.4.5 requests-2.21.0 tqdm-4.31.1\n"
          ],
          "name": "stdout"
        },
        {
          "output_type": "display_data",
          "data": {
            "application/vnd.colab-display-data+json": {
              "pip_warning": {
                "packages": [
                  "idna",
                  "requests"
                ]
              }
            }
          },
          "metadata": {
            "tags": []
          }
        }
      ]
    },
    {
      "cell_type": "code",
      "metadata": {
        "id": "JIbLyEBmHCrM",
        "colab_type": "code",
        "colab": {
          "base_uri": "https://localhost:8080/",
          "height": 493
        },
        "outputId": "dc795e5e-87b3-458c-e93a-080369359160"
      },
      "source": [
        "!python3 download_model.py 124M\n",
        "!python3 download_model.py 355M\n",
        "!python3 download_model.py 774M\n",
        "!python3 download_model.py 1558M"
      ],
      "execution_count": 7,
      "outputs": [
        {
          "output_type": "stream",
          "text": [
            "\rFetching checkpoint:   0%|                                              | 0.00/77.0 [00:00<?, ?it/s]\rFetching checkpoint: 1.00kit [00:00, 767kit/s]                                                      \n",
            "Fetching encoder.json: 1.04Mit [00:00, 30.0Mit/s]                                                   \n",
            "Fetching hparams.json: 1.00kit [00:00, 885kit/s]                                                    \n",
            "Fetching model.ckpt.data-00000-of-00001: 498Mit [00:13, 36.6Mit/s]                                  \n",
            "Fetching model.ckpt.index: 6.00kit [00:00, 3.86Mit/s]                                               \n",
            "Fetching model.ckpt.meta: 472kit [00:00, 31.5Mit/s]                                                 \n",
            "Fetching vocab.bpe: 457kit [00:00, 13.7Mit/s]                                                       \n",
            "Fetching checkpoint: 1.00kit [00:00, 1.01Mit/s]                                                     \n",
            "Fetching encoder.json: 1.04Mit [00:00, 37.3Mit/s]                                                   \n",
            "Fetching hparams.json: 1.00kit [00:00, 836kit/s]                                                    \n",
            "Fetching model.ckpt.data-00000-of-00001: 1.42Git [00:37, 37.7Mit/s]                                 \n",
            "Fetching model.ckpt.index: 11.0kit [00:00, 6.55Mit/s]                                               \n",
            "Fetching model.ckpt.meta: 927kit [00:00, 30.6Mit/s]                                                 \n",
            "Fetching vocab.bpe: 457kit [00:00, 30.9Mit/s]                                                       \n",
            "Fetching checkpoint: 1.00kit [00:00, 838kit/s]                                                      \n",
            "Fetching encoder.json: 1.04Mit [00:00, 26.2Mit/s]                                                   \n",
            "Fetching hparams.json: 1.00kit [00:00, 1.04Mit/s]                                                   \n",
            "Fetching model.ckpt.data-00000-of-00001: 3.10Git [01:05, 46.9Mit/s]                                 \n",
            "Fetching model.ckpt.index: 16.0kit [00:00, 8.36Mit/s]                                               \n",
            "Fetching model.ckpt.meta: 1.38Mit [00:00, 41.0Mit/s]                                                \n",
            "Fetching vocab.bpe: 457kit [00:00, 31.2Mit/s]                                                       \n",
            "Fetching checkpoint: 1.00kit [00:00, 754kit/s]                                                      \n",
            "Fetching encoder.json: 1.04Mit [00:00, 37.1Mit/s]                                                   \n",
            "Fetching hparams.json: 1.00kit [00:00, 717kit/s]                                                    \n",
            "Fetching model.ckpt.data-00000-of-00001: 6.23Git [02:23, 43.4Mit/s]                                 \n",
            "Fetching model.ckpt.index: 21.0kit [00:00, 10.8Mit/s]                                               \n",
            "Fetching model.ckpt.meta: 1.84Mit [00:00, 28.4Mit/s]                                                \n",
            "Fetching vocab.bpe: 457kit [00:00, 9.28Mit/s]                                                       \n"
          ],
          "name": "stdout"
        }
      ]
    },
    {
      "cell_type": "code",
      "metadata": {
        "id": "rbpy2zDtIKnf",
        "colab_type": "code",
        "colab": {
          "base_uri": "https://localhost:8080/",
          "height": 1000
        },
        "outputId": "bcab5cad-8139-4ab6-b404-5e4be321ccbf"
      },
      "source": [
        "!python3 src/interactive_conditional_samples.py --top_k 40"
      ],
      "execution_count": null,
      "outputs": [
        {
          "output_type": "stream",
          "text": [
            "WARNING:tensorflow:From src/interactive_conditional_samples.py:57: The name tf.Session is deprecated. Please use tf.compat.v1.Session instead.\n",
            "\n",
            "2020-09-17 03:42:14.993830: I tensorflow/stream_executor/platform/default/dso_loader.cc:44] Successfully opened dynamic library libcuda.so.1\n",
            "2020-09-17 03:42:15.154699: I tensorflow/stream_executor/cuda/cuda_gpu_executor.cc:983] successful NUMA node read from SysFS had negative value (-1), but there must be at least one NUMA node, so returning NUMA node zero\n",
            "2020-09-17 03:42:15.156385: I tensorflow/core/common_runtime/gpu/gpu_device.cc:1639] Found device 0 with properties: \n",
            "name: Tesla P100-PCIE-16GB major: 6 minor: 0 memoryClockRate(GHz): 1.3285\n",
            "pciBusID: 0000:00:04.0\n",
            "2020-09-17 03:42:15.173470: I tensorflow/stream_executor/platform/default/dso_loader.cc:44] Successfully opened dynamic library libcudart.so.10.1\n",
            "2020-09-17 03:42:16.057045: I tensorflow/stream_executor/platform/default/dso_loader.cc:44] Successfully opened dynamic library libcublas.so.10\n",
            "2020-09-17 03:42:16.480995: I tensorflow/stream_executor/platform/default/dso_loader.cc:44] Successfully opened dynamic library libcufft.so.10\n",
            "2020-09-17 03:42:16.576325: I tensorflow/stream_executor/platform/default/dso_loader.cc:44] Successfully opened dynamic library libcurand.so.10\n",
            "2020-09-17 03:42:17.464076: I tensorflow/stream_executor/platform/default/dso_loader.cc:44] Successfully opened dynamic library libcusolver.so.10\n",
            "2020-09-17 03:42:17.570907: I tensorflow/stream_executor/platform/default/dso_loader.cc:44] Successfully opened dynamic library libcusparse.so.10\n",
            "2020-09-17 03:42:19.066917: I tensorflow/stream_executor/platform/default/dso_loader.cc:44] Successfully opened dynamic library libcudnn.so.7\n",
            "2020-09-17 03:42:19.067249: I tensorflow/stream_executor/cuda/cuda_gpu_executor.cc:983] successful NUMA node read from SysFS had negative value (-1), but there must be at least one NUMA node, so returning NUMA node zero\n",
            "2020-09-17 03:42:19.068315: I tensorflow/stream_executor/cuda/cuda_gpu_executor.cc:983] successful NUMA node read from SysFS had negative value (-1), but there must be at least one NUMA node, so returning NUMA node zero\n",
            "2020-09-17 03:42:19.069195: I tensorflow/core/common_runtime/gpu/gpu_device.cc:1767] Adding visible gpu devices: 0\n",
            "2020-09-17 03:42:19.170494: I tensorflow/core/platform/profile_utils/cpu_utils.cc:94] CPU Frequency: 2300000000 Hz\n",
            "2020-09-17 03:42:19.171224: I tensorflow/compiler/xla/service/service.cc:168] XLA service 0x1439480 initialized for platform Host (this does not guarantee that XLA will be used). Devices:\n",
            "2020-09-17 03:42:19.171269: I tensorflow/compiler/xla/service/service.cc:176]   StreamExecutor device (0): Host, Default Version\n",
            "2020-09-17 03:42:19.425299: I tensorflow/stream_executor/cuda/cuda_gpu_executor.cc:983] successful NUMA node read from SysFS had negative value (-1), but there must be at least one NUMA node, so returning NUMA node zero\n",
            "2020-09-17 03:42:19.426349: I tensorflow/compiler/xla/service/service.cc:168] XLA service 0x1439640 initialized for platform CUDA (this does not guarantee that XLA will be used). Devices:\n",
            "2020-09-17 03:42:19.426385: I tensorflow/compiler/xla/service/service.cc:176]   StreamExecutor device (0): Tesla P100-PCIE-16GB, Compute Capability 6.0\n",
            "2020-09-17 03:42:19.427305: I tensorflow/stream_executor/cuda/cuda_gpu_executor.cc:983] successful NUMA node read from SysFS had negative value (-1), but there must be at least one NUMA node, so returning NUMA node zero\n",
            "2020-09-17 03:42:19.428250: I tensorflow/core/common_runtime/gpu/gpu_device.cc:1639] Found device 0 with properties: \n",
            "name: Tesla P100-PCIE-16GB major: 6 minor: 0 memoryClockRate(GHz): 1.3285\n",
            "pciBusID: 0000:00:04.0\n",
            "2020-09-17 03:42:19.428339: I tensorflow/stream_executor/platform/default/dso_loader.cc:44] Successfully opened dynamic library libcudart.so.10.1\n",
            "2020-09-17 03:42:19.428383: I tensorflow/stream_executor/platform/default/dso_loader.cc:44] Successfully opened dynamic library libcublas.so.10\n",
            "2020-09-17 03:42:19.428433: I tensorflow/stream_executor/platform/default/dso_loader.cc:44] Successfully opened dynamic library libcufft.so.10\n",
            "2020-09-17 03:42:19.428477: I tensorflow/stream_executor/platform/default/dso_loader.cc:44] Successfully opened dynamic library libcurand.so.10\n",
            "2020-09-17 03:42:19.428520: I tensorflow/stream_executor/platform/default/dso_loader.cc:44] Successfully opened dynamic library libcusolver.so.10\n",
            "2020-09-17 03:42:19.428581: I tensorflow/stream_executor/platform/default/dso_loader.cc:44] Successfully opened dynamic library libcusparse.so.10\n",
            "2020-09-17 03:42:19.428644: I tensorflow/stream_executor/platform/default/dso_loader.cc:44] Successfully opened dynamic library libcudnn.so.7\n",
            "2020-09-17 03:42:19.428780: I tensorflow/stream_executor/cuda/cuda_gpu_executor.cc:983] successful NUMA node read from SysFS had negative value (-1), but there must be at least one NUMA node, so returning NUMA node zero\n",
            "2020-09-17 03:42:19.429872: I tensorflow/stream_executor/cuda/cuda_gpu_executor.cc:983] successful NUMA node read from SysFS had negative value (-1), but there must be at least one NUMA node, so returning NUMA node zero\n",
            "2020-09-17 03:42:19.430772: I tensorflow/core/common_runtime/gpu/gpu_device.cc:1767] Adding visible gpu devices: 0\n",
            "2020-09-17 03:42:19.460185: I tensorflow/stream_executor/platform/default/dso_loader.cc:44] Successfully opened dynamic library libcudart.so.10.1\n",
            "2020-09-17 03:42:19.464090: I tensorflow/core/common_runtime/gpu/gpu_device.cc:1180] Device interconnect StreamExecutor with strength 1 edge matrix:\n",
            "2020-09-17 03:42:19.464137: I tensorflow/core/common_runtime/gpu/gpu_device.cc:1186]      0 \n",
            "2020-09-17 03:42:19.464161: I tensorflow/core/common_runtime/gpu/gpu_device.cc:1199] 0:   N \n",
            "2020-09-17 03:42:19.465945: I tensorflow/stream_executor/cuda/cuda_gpu_executor.cc:983] successful NUMA node read from SysFS had negative value (-1), but there must be at least one NUMA node, so returning NUMA node zero\n",
            "2020-09-17 03:42:19.467451: I tensorflow/stream_executor/cuda/cuda_gpu_executor.cc:983] successful NUMA node read from SysFS had negative value (-1), but there must be at least one NUMA node, so returning NUMA node zero\n",
            "2020-09-17 03:42:19.468568: W tensorflow/core/common_runtime/gpu/gpu_bfc_allocator.cc:39] Overriding allow_growth setting because the TF_FORCE_GPU_ALLOW_GROWTH environment variable is set. Original config value was 0.\n",
            "2020-09-17 03:42:19.468758: I tensorflow/core/common_runtime/gpu/gpu_device.cc:1325] Created TensorFlow device (/job:localhost/replica:0/task:0/device:GPU:0 with 15216 MB memory) -> physical GPU (device: 0, name: Tesla P100-PCIE-16GB, pci bus id: 0000:00:04.0, compute capability: 6.0)\n",
            "WARNING:tensorflow:From src/interactive_conditional_samples.py:58: The name tf.placeholder is deprecated. Please use tf.compat.v1.placeholder instead.\n",
            "\n",
            "WARNING:tensorflow:From src/interactive_conditional_samples.py:60: The name tf.set_random_seed is deprecated. Please use tf.compat.v1.set_random_seed instead.\n",
            "\n",
            "WARNING:tensorflow:From /content/drive/My Drive/gpt-2/gpt-2/src/sample.py:51: The name tf.AUTO_REUSE is deprecated. Please use tf.compat.v1.AUTO_REUSE instead.\n",
            "\n",
            "WARNING:tensorflow:From /content/drive/My Drive/gpt-2/gpt-2/src/model.py:148: The name tf.variable_scope is deprecated. Please use tf.compat.v1.variable_scope instead.\n",
            "\n",
            "WARNING:tensorflow:From /content/drive/My Drive/gpt-2/gpt-2/src/model.py:152: The name tf.get_variable is deprecated. Please use tf.compat.v1.get_variable instead.\n",
            "\n",
            "WARNING:tensorflow:From /content/drive/My Drive/gpt-2/gpt-2/src/model.py:36: The name tf.rsqrt is deprecated. Please use tf.math.rsqrt instead.\n",
            "\n",
            "WARNING:tensorflow:From /content/drive/My Drive/gpt-2/gpt-2/src/sample.py:64: to_float (from tensorflow.python.ops.math_ops) is deprecated and will be removed in a future version.\n",
            "Instructions for updating:\n",
            "Use `tf.cast` instead.\n",
            "WARNING:tensorflow:From /content/drive/My Drive/gpt-2/gpt-2/src/sample.py:16: where (from tensorflow.python.ops.array_ops) is deprecated and will be removed in a future version.\n",
            "Instructions for updating:\n",
            "Use tf.where in 2.0, which has the same broadcast rule as np.where\n",
            "WARNING:tensorflow:From /content/drive/My Drive/gpt-2/gpt-2/src/sample.py:67: multinomial (from tensorflow.python.ops.random_ops) is deprecated and will be removed in a future version.\n",
            "Instructions for updating:\n",
            "Use `tf.random.categorical` instead.\n",
            "WARNING:tensorflow:From src/interactive_conditional_samples.py:68: The name tf.train.Saver is deprecated. Please use tf.compat.v1.train.Saver instead.\n",
            "\n",
            "Model prompt >>> What should I have to eat?\n",
            "2020-09-17 03:43:31.269419: I tensorflow/stream_executor/platform/default/dso_loader.cc:44] Successfully opened dynamic library libcublas.so.10\n",
            "======================================== SAMPLE 1 ========================================\n",
            "\n",
            "\n",
            "The answer should be \"food.\" A good meal consists of a steady stream of nutritious and easy-to-digest, high-quality proteins and carbohydrates. In a variety of situations, that food gets lost and, when it does, there is no need for a daily source.\n",
            "\n",
            "Food is a necessary ingredient for good health, so take care when choosing which foods you should eat.<|endoftext|>About\n",
            "\n",
            "\"This Game Is Real.\"\n",
            "\n",
            "I hope you enjoyed reading about the awesome adventure game, Hunchback Adventure, that you created with your community.\n",
            "\n",
            "I hope you found your way in with this story and love it even more.\n",
            "\n",
            "Here's a story of a very humble dude who was raised by his ex-wife and his family. An amazing idea: his daughter took over. She loves to play with her dog when she gets home from school at 3:00 AM, and the kids love to play with her dogs when they get home from playtime. What do he have in common with his daughters? No, not much. He loves to do his work (he can work on projects for a living, he works on his laptop that he runs at work), but his kids really aren't very good at it.\n",
            "\n",
            "With this campaign, he created this game. He will be a young young boy, and he will play on the small screen of his computer. For now, we want Hunchback Adventure to be like a game, with lots of replay potential.\n",
            "\n",
            "The project will cost $2.5 million.\n",
            "\n",
            "This is a good time to have fun with our amazing community! We need to create an original game.\n",
            "\n",
            "There are four tiers:\n",
            "\n",
            "1. Kickstarter Exclusive Stretch Goal - $5,000 to buy the Hunchback Adventure game on Kickstarter - 2. Kickstarter Exclusive Stretch Goal - $50,000 to buy the Hunchback Adventure game on Kickstarter - 3. Kickstarter Exclusive Stretch Goal - $75,000 to buy the Hunchback Adventure game on Kickstarter - 3. Kickstarter Exclusive Stretch Goal - $100,000 to buy the Hunchback Adventure game on Kickstarter - 4. Kickstarter Exclusive Stretch Goal - $250,000 to buy the Hunchback Adventure game on Kickstarter -\n",
            "\n",
            "\n",
            "The Stretch Goal: A new \"miniature game\" to showcase the Hunchback Adventure game on Kickstarter.\n",
            "\n",
            "The Stretch Goal includes:\n",
            "\n",
            "1. New \"Miniature\" Game (the smallest one yet!) containing 20 pieces of\n",
            "================================================================================\n",
            "Model prompt >>> Our future\n",
            "======================================== SAMPLE 1 ========================================\n",
            " is bright,\" he writes.\n",
            "\n",
            "For her part, the woman is still going to the city. But she is going to the University, in the wake of the recent shooting at a Sikh school and the recent announcement in Texas of plans for a new prayer hall.\n",
            "\n",
            "She added that if she ever takes a walk in Austin again, \"the time for walking will soon be over.\"\n",
            "\n",
            "As for K.K. Singh, who wrote about the event last week, he said, \"there was no way in the world I'd be able to get there, and I know there are all sorts of other places they can go to.\"\n",
            "\n",
            "The Sikh event would have been held at the Sikh Student Council's annual celebration of interfaith dialogue, \"The Gathering to Celebrate our Values and Community,\" as he said.\n",
            "\n",
            "K.K. Singh was the only student among a small number of students attending at the time of the shooting and will be attending the Sikh Student Council's annual event at the city's Capitol.\n",
            "\n",
            "For the second year in a row, a Sikh student has been targeted in a violent incident. On May 10, 2007, eight years ago this month, an 11-year-old student at a private high school in San Antonio was hit and killed by four teenagers in Kansas City, Mo., because he refused to stop wearing a traditional Sikh garb.\n",
            "\n",
            "As the story broke, K.S. Singh took to Facebook. He wrote that he was attacked \"in an attempt to demonstrate his beliefs, values and values\" by another student.\n",
            "\n",
            "\"The incident went on and on,\" he notes of that confrontation, \"but I do wonder if anyone would have considered his opinion before that.\"\n",
            "\n",
            "A memorial service for the slain student on Thursday will be held in front of the University Athletic Club in Kansas City.\n",
            "\n",
            "The vigil has since been canceled. All those attending, except the student who has been arrested, remain in attendance.\n",
            "\n",
            "In a statement, the Council for the Sikhs of Texas on Friday said that \"we hold the President's Office responsible for the tragedy at a Sikh school in San Antonio, and the community at large for allowing such a tragedy to occur.\"\n",
            "\n",
            "-- The Associated Press<|endoftext|>It was as if we should all have a few days off between meals, especially since it's no longer like Christmas morning. But on a bright summer day this past month, the two best girls will spend Christmas alone on that same island. On June 2, they\n",
            "================================================================================\n",
            "Model prompt >>> Today marks the official start of Hispanic Heritage Month. Tune in as we kick off our celebration from Florida.\n",
            "======================================== SAMPLE 1 ========================================\n",
            "\n",
            "\n",
            "In order to commemorate the 70th anniversary of the beginning of the country's acceptance of its first black American president, we're hosting a special Hispanic Heritage Month Celebration on November 4. Join us as we celebrate on the 10th day of November with a celebration of Hispanic Heritage Month.\n",
            "\n",
            "Register online today for our first official Hispanic Heritage Month Celebration!\n",
            "\n",
            "If you are a Hispanic Heritage Month recipient, we're offering a free $10 gift to your door for each visitor who registers. This reward includes a $10 cash register and our VIP badge.\n",
            "\n",
            "Join us on October 9th for an exclusive Spanish Heritage Month Celebration. For $20 you get a personalized signing-in form on our official website that shows you your name and zip code, the country's current or past presidents, their place in history, the names and locations of their ancestors and places of worship, your favorite presidents, and more. Sign up today!\n",
            "\n",
            "Our goal is to make the effort in the community and social media worlds more productive as a Hispanic Heritage Month recipient and share the day with your children, grandchildren, and grand-kids.\n",
            "\n",
            "You can check out some resources including the list of places on our official website. But the important thing is you can also click on the \"My Family\" link above to complete your registration offer.\n",
            "\n",
            "We want to provide you with a good way to help help us ensure our Hispanic Heritage Month is an excellent time to be a part of the Hispanic heritage movement that is growing and evolving nationwide. So join us and get to know what we're about.<|endoftext|>You know things are going to change in a hurry, and you want us to help you to get your head around those changes so you can live, breathe, and be who you want to be.\n",
            "\n",
            "We work to stay engaged and energized by providing personal updates on upcoming events in our online shop, and by serving as an ongoing team. We provide free and paid content on all of our sites.\n",
            "\n",
            "If you'd like more information than you can handle, please call ahead to make an early morning or afternoon stop by.<|endoftext|>This new release of Android N has been brought to you by Motorola, its first foray into Android, with the new Nexus 6P which can now be unlocked from the Nexus brand. This Android N has been designed by NTT DoCoMo with Google's Android Pay team of developers. We've been able to get our hands on the N by a few of the team members before they went away for their\n",
            "================================================================================\n",
            "Model prompt >>> "
          ],
          "name": "stdout"
        }
      ]
    },
    {
      "cell_type": "code",
      "metadata": {
        "id": "kbGIdkIQIm-d",
        "colab_type": "code",
        "colab": {}
      },
      "source": [
        ""
      ],
      "execution_count": null,
      "outputs": []
    },
    {
      "cell_type": "code",
      "metadata": {
        "id": "3L6-L2dzKaVo",
        "colab_type": "code",
        "colab": {}
      },
      "source": [
        ""
      ],
      "execution_count": null,
      "outputs": []
    },
    {
      "cell_type": "code",
      "metadata": {
        "id": "6UHpojlXKa7J",
        "colab_type": "code",
        "colab": {}
      },
      "source": [
        ""
      ],
      "execution_count": null,
      "outputs": []
    },
    {
      "cell_type": "code",
      "metadata": {
        "id": "YsvmbY6JKar6",
        "colab_type": "code",
        "colab": {}
      },
      "source": [
        ""
      ],
      "execution_count": null,
      "outputs": []
    },
    {
      "cell_type": "code",
      "metadata": {
        "id": "_CaivxMXKaS4",
        "colab_type": "code",
        "colab": {}
      },
      "source": [
        ""
      ],
      "execution_count": null,
      "outputs": []
    },
    {
      "cell_type": "code",
      "metadata": {
        "id": "QVvtEghIKaQO",
        "colab_type": "code",
        "colab": {}
      },
      "source": [
        ""
      ],
      "execution_count": null,
      "outputs": []
    }
  ]
}